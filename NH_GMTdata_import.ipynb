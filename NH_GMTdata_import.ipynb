{
 "cells": [
  {
   "cell_type": "markdown",
   "metadata": {},
   "source": [
    "Nina Hill TNC Astraea Pilot Project 2020 nina.hill@tnc.org "
   ]
  },
  {
   "cell_type": "code",
   "execution_count": 1,
   "metadata": {},
   "outputs": [
    {
     "name": "stdout",
     "output_type": "stream",
     "text": [
      "\n",
      "Importing EarthAI libraries.\n",
      "EarthAI version 1.4.2; RasterFrames version 0.9.0.dev+astraea.1ce1ff3; PySpark version 2.4.4\n",
      "\n",
      "Creating SparkSession...\n",
      "  SparkSession is available as `spark`.\n"
     ]
    }
   ],
   "source": [
    "from earthai.init import *\n",
    "\n",
    "import pyspark.sql.functions as F\n",
    "import pandas as pd\n",
    "import geopandas as gpd\n",
    "\n",
    "from shapely.geometry import MultiPoint, MultiLineString, MultiPolygon, box\n",
    "import matplotlib.pyplot as plt"
   ]
  },
  {
   "cell_type": "raw",
   "metadata": {},
   "source": [
    "import os\n",
    "path = r\"\"\n",
    "file = \"vordat2.csv\"\n",
    "fp = os.path.join(path, file)"
   ]
  },
  {
   "cell_type": "code",
   "execution_count": 2,
   "metadata": {},
   "outputs": [],
   "source": [
    "csvdat = pd.read_csv('astraea_biomass/vordat2.csv') # remember you have to connect/clone Git repository into notebook first"
   ]
  },
  {
   "cell_type": "code",
   "execution_count": 3,
   "metadata": {},
   "outputs": [
    {
     "data": {
      "text/plain": [
       "pandas.core.frame.DataFrame"
      ]
     },
     "execution_count": 3,
     "metadata": {},
     "output_type": "execute_result"
    }
   ],
   "source": [
    "type(csvdat)"
   ]
  },
  {
   "cell_type": "code",
   "execution_count": 4,
   "metadata": {},
   "outputs": [
    {
     "data": {
      "text/html": [
       "<div>\n",
       "<style scoped>\n",
       "    .dataframe tbody tr th:only-of-type {\n",
       "        vertical-align: middle;\n",
       "    }\n",
       "\n",
       "    .dataframe tbody tr th {\n",
       "        vertical-align: top;\n",
       "    }\n",
       "\n",
       "    .dataframe thead th {\n",
       "        text-align: right;\n",
       "    }\n",
       "</style>\n",
       "<table border=\"1\" class=\"dataframe\">\n",
       "  <thead>\n",
       "    <tr style=\"text-align: right;\">\n",
       "      <th></th>\n",
       "      <th>Transect</th>\n",
       "      <th>SystemType.x</th>\n",
       "      <th>MonDate</th>\n",
       "      <th>VOR_N</th>\n",
       "      <th>VOR_E</th>\n",
       "      <th>VOR_S</th>\n",
       "      <th>VOR_W</th>\n",
       "      <th>Class</th>\n",
       "      <th>TransectName</th>\n",
       "      <th>SystemType.y</th>\n",
       "      <th>...</th>\n",
       "      <th>OFFICE</th>\n",
       "      <th>UnitName_OLD</th>\n",
       "      <th>SiteName_OLD</th>\n",
       "      <th>Organization</th>\n",
       "      <th>SiteName</th>\n",
       "      <th>MonYear</th>\n",
       "      <th>RecordID</th>\n",
       "      <th>VORave</th>\n",
       "      <th>VORcm</th>\n",
       "      <th>Biomass</th>\n",
       "    </tr>\n",
       "  </thead>\n",
       "  <tbody>\n",
       "    <tr>\n",
       "      <th>0</th>\n",
       "      <td>814.0</td>\n",
       "      <td>Upland Grassland</td>\n",
       "      <td>2008-08-11</td>\n",
       "      <td>4.5</td>\n",
       "      <td>4.5</td>\n",
       "      <td>NaN</td>\n",
       "      <td>3.5</td>\n",
       "      <td>A 2008 VOR Summary.xlsx</td>\n",
       "      <td>Benson E 1</td>\n",
       "      <td>UG</td>\n",
       "      <td>...</td>\n",
       "      <td>21.0</td>\n",
       "      <td>Glenwood Work Area</td>\n",
       "      <td>Benson E</td>\n",
       "      <td>MNDNR</td>\n",
       "      <td>Benson WMA</td>\n",
       "      <td>2008</td>\n",
       "      <td>2008_35_814</td>\n",
       "      <td>4.166667</td>\n",
       "      <td>41.666667</td>\n",
       "      <td>745.823333</td>\n",
       "    </tr>\n",
       "    <tr>\n",
       "      <th>1</th>\n",
       "      <td>815.0</td>\n",
       "      <td>Upland Grassland</td>\n",
       "      <td>2008-08-11</td>\n",
       "      <td>2.5</td>\n",
       "      <td>2.5</td>\n",
       "      <td>NaN</td>\n",
       "      <td>3.0</td>\n",
       "      <td>A 2008 VOR Summary.xlsx</td>\n",
       "      <td>Benson E 2</td>\n",
       "      <td>UG</td>\n",
       "      <td>...</td>\n",
       "      <td>21.0</td>\n",
       "      <td>Glenwood Work Area</td>\n",
       "      <td>Benson E</td>\n",
       "      <td>MNDNR</td>\n",
       "      <td>Benson WMA</td>\n",
       "      <td>2008</td>\n",
       "      <td>2008_35_815</td>\n",
       "      <td>2.666667</td>\n",
       "      <td>26.666667</td>\n",
       "      <td>470.168333</td>\n",
       "    </tr>\n",
       "    <tr>\n",
       "      <th>2</th>\n",
       "      <td>816.0</td>\n",
       "      <td>Upland Grassland</td>\n",
       "      <td>2008-08-07</td>\n",
       "      <td>1.0</td>\n",
       "      <td>0.5</td>\n",
       "      <td>1.0</td>\n",
       "      <td>1.5</td>\n",
       "      <td>A 2008 VOR Summary.xlsx</td>\n",
       "      <td>Freeman N 4</td>\n",
       "      <td>UG</td>\n",
       "      <td>...</td>\n",
       "      <td>21.0</td>\n",
       "      <td>Glenwood Work Area</td>\n",
       "      <td>Freeman N</td>\n",
       "      <td>MNDNR</td>\n",
       "      <td>Bill Freeman WMA</td>\n",
       "      <td>2008</td>\n",
       "      <td>2008_36_816</td>\n",
       "      <td>1.000000</td>\n",
       "      <td>10.000000</td>\n",
       "      <td>163.885000</td>\n",
       "    </tr>\n",
       "    <tr>\n",
       "      <th>3</th>\n",
       "      <td>817.0</td>\n",
       "      <td>Upland Grassland</td>\n",
       "      <td>2008-08-07</td>\n",
       "      <td>2.0</td>\n",
       "      <td>1.5</td>\n",
       "      <td>1.5</td>\n",
       "      <td>1.5</td>\n",
       "      <td>A 2008 VOR Summary.xlsx</td>\n",
       "      <td>Freeman N 5</td>\n",
       "      <td>UG</td>\n",
       "      <td>...</td>\n",
       "      <td>21.0</td>\n",
       "      <td>Glenwood Work Area</td>\n",
       "      <td>Freeman N</td>\n",
       "      <td>MNDNR</td>\n",
       "      <td>Bill Freeman WMA</td>\n",
       "      <td>2008</td>\n",
       "      <td>2008_36_817</td>\n",
       "      <td>1.625000</td>\n",
       "      <td>16.250000</td>\n",
       "      <td>278.741250</td>\n",
       "    </tr>\n",
       "    <tr>\n",
       "      <th>4</th>\n",
       "      <td>818.0</td>\n",
       "      <td>Upland Grassland</td>\n",
       "      <td>2008-08-07</td>\n",
       "      <td>2.0</td>\n",
       "      <td>1.0</td>\n",
       "      <td>2.0</td>\n",
       "      <td>2.0</td>\n",
       "      <td>A 2008 VOR Summary.xlsx</td>\n",
       "      <td>Freeman N 6</td>\n",
       "      <td>UG</td>\n",
       "      <td>...</td>\n",
       "      <td>21.0</td>\n",
       "      <td>Glenwood Work Area</td>\n",
       "      <td>Freeman N</td>\n",
       "      <td>MNDNR</td>\n",
       "      <td>Bill Freeman WMA</td>\n",
       "      <td>2008</td>\n",
       "      <td>2008_36_818</td>\n",
       "      <td>1.750000</td>\n",
       "      <td>17.500000</td>\n",
       "      <td>301.712500</td>\n",
       "    </tr>\n",
       "  </tbody>\n",
       "</table>\n",
       "<p>5 rows × 25 columns</p>\n",
       "</div>"
      ],
      "text/markdown": [
       "|    |   Transect | SystemType.x     | MonDate    |   VOR_N |   VOR_E |   VOR_S |   VOR_W | Class                   | TransectName   | SystemType.y   |   StartLat |   StartLong |   Bearing |   MGMTUNIT |   SITE |   OFFICE | UnitName_OLD       | SiteName_OLD   | Organization   | SiteName         |   MonYear |    RecordID |   VORave |   VORcm |   Biomass |\n",
       "|---:|-----------:|:-----------------|:-----------|--------:|--------:|--------:|--------:|:------------------------|:---------------|:---------------|-----------:|------------:|----------:|-----------:|-------:|---------:|:-------------------|:---------------|:---------------|:-----------------|----------:|------------:|---------:|--------:|----------:|\n",
       "|  0 |        814 | Upland Grassland | 2008-08-11 |     4.5 |     4.5 |   nan   |     3.5 | A 2008 VOR Summary.xlsx | Benson E 1     | UG             |    45.5897 |    -95.759  |        14 |        105 |     35 |       21 | Glenwood Work Area | Benson E       | MNDNR          | Benson WMA       |      2008 | 2008_35_814 |  4.16667 | 41.6667 |   745.823 |\n",
       "|  1 |        815 | Upland Grassland | 2008-08-11 |     2.5 |     2.5 |   nan   |     3   | A 2008 VOR Summary.xlsx | Benson E 2     | UG             |    45.5885 |    -95.7596 |       299 |        105 |     35 |       21 | Glenwood Work Area | Benson E       | MNDNR          | Benson WMA       |      2008 | 2008_35_815 |  2.66667 | 26.6667 |   470.168 |\n",
       "|  2 |        816 | Upland Grassland | 2008-08-07 |     1   |     0.5 |     1   |     1.5 | A 2008 VOR Summary.xlsx | Freeman N 4    | UG             |    45.461  |    -95.9724 |       231 |        106 |     36 |       21 | Glenwood Work Area | Freeman N      | MNDNR          | Bill Freeman WMA |      2008 | 2008_36_816 |  1       | 10      |   163.885 |\n",
       "|  3 |        817 | Upland Grassland | 2008-08-07 |     2   |     1.5 |     1.5 |     1.5 | A 2008 VOR Summary.xlsx | Freeman N 5    | UG             |    45.4618 |    -95.9703 |        44 |        106 |     36 |       21 | Glenwood Work Area | Freeman N      | MNDNR          | Bill Freeman WMA |      2008 | 2008_36_817 |  1.625   | 16.25   |   278.741 |\n",
       "|  4 |        818 | Upland Grassland | 2008-08-07 |     2   |     1   |     2   |     2   | A 2008 VOR Summary.xlsx | Freeman N 6    | UG             |    45.4605 |    -95.9683 |         6 |        106 |     36 |       21 | Glenwood Work Area | Freeman N      | MNDNR          | Bill Freeman WMA |      2008 | 2008_36_818 |  1.75    | 17.5    |   301.712 |"
      ],
      "text/plain": [
       "   Transect      SystemType.x     MonDate  VOR_N  VOR_E  VOR_S  VOR_W  \\\n",
       "0     814.0  Upland Grassland  2008-08-11    4.5    4.5    NaN    3.5   \n",
       "1     815.0  Upland Grassland  2008-08-11    2.5    2.5    NaN    3.0   \n",
       "2     816.0  Upland Grassland  2008-08-07    1.0    0.5    1.0    1.5   \n",
       "3     817.0  Upland Grassland  2008-08-07    2.0    1.5    1.5    1.5   \n",
       "4     818.0  Upland Grassland  2008-08-07    2.0    1.0    2.0    2.0   \n",
       "\n",
       "                     Class TransectName SystemType.y  ...  OFFICE  \\\n",
       "0  A 2008 VOR Summary.xlsx   Benson E 1           UG  ...    21.0   \n",
       "1  A 2008 VOR Summary.xlsx   Benson E 2           UG  ...    21.0   \n",
       "2  A 2008 VOR Summary.xlsx  Freeman N 4           UG  ...    21.0   \n",
       "3  A 2008 VOR Summary.xlsx  Freeman N 5           UG  ...    21.0   \n",
       "4  A 2008 VOR Summary.xlsx  Freeman N 6           UG  ...    21.0   \n",
       "\n",
       "         UnitName_OLD  SiteName_OLD  Organization          SiteName  MonYear  \\\n",
       "0  Glenwood Work Area      Benson E         MNDNR        Benson WMA     2008   \n",
       "1  Glenwood Work Area      Benson E         MNDNR        Benson WMA     2008   \n",
       "2  Glenwood Work Area     Freeman N         MNDNR  Bill Freeman WMA     2008   \n",
       "3  Glenwood Work Area     Freeman N         MNDNR  Bill Freeman WMA     2008   \n",
       "4  Glenwood Work Area     Freeman N         MNDNR  Bill Freeman WMA     2008   \n",
       "\n",
       "      RecordID    VORave      VORcm     Biomass  \n",
       "0  2008_35_814  4.166667  41.666667  745.823333  \n",
       "1  2008_35_815  2.666667  26.666667  470.168333  \n",
       "2  2008_36_816  1.000000  10.000000  163.885000  \n",
       "3  2008_36_817  1.625000  16.250000  278.741250  \n",
       "4  2008_36_818  1.750000  17.500000  301.712500  \n",
       "\n",
       "[5 rows x 25 columns]"
      ]
     },
     "execution_count": 4,
     "metadata": {},
     "output_type": "execute_result"
    }
   ],
   "source": [
    "csvdat.head()"
   ]
  },
  {
   "cell_type": "markdown",
   "metadata": {},
   "source": [
    "Since I am feeding in coordinates to a regular dataframe I need to identify lat long columns to combine into 'geometry' column as I convert regular pandas df to geopandas geodf. And tell it that 'MonDate' is a date field."
   ]
  },
  {
   "cell_type": "code",
   "execution_count": 5,
   "metadata": {},
   "outputs": [],
   "source": [
    "geodat = gpd.GeoDataFrame(csvdat, geometry=gpd.points_from_xy(csvdat.StartLong, csvdat.StartLat))"
   ]
  },
  {
   "cell_type": "code",
   "execution_count": 6,
   "metadata": {},
   "outputs": [],
   "source": [
    "geodat['Date'] = pd.to_datetime(geodat['MonDate'])"
   ]
  },
  {
   "cell_type": "code",
   "execution_count": 7,
   "metadata": {},
   "outputs": [
    {
     "data": {
      "text/plain": [
       "Index(['Transect', 'SystemType.x', 'MonDate', 'VOR_N', 'VOR_E', 'VOR_S',\n",
       "       'VOR_W', 'Class', 'TransectName', 'SystemType.y', 'StartLat',\n",
       "       'StartLong', 'Bearing', 'MGMTUNIT', 'SITE', 'OFFICE', 'UnitName_OLD',\n",
       "       'SiteName_OLD', 'Organization', 'SiteName', 'MonYear', 'RecordID',\n",
       "       'VORave', 'VORcm', 'Biomass', 'geometry', 'Date'],\n",
       "      dtype='object')"
      ]
     },
     "execution_count": 7,
     "metadata": {},
     "output_type": "execute_result"
    }
   ],
   "source": [
    "geodat.columns"
   ]
  },
  {
   "cell_type": "code",
   "execution_count": 8,
   "metadata": {},
   "outputs": [
    {
     "data": {
      "text/plain": [
       "4774"
      ]
     },
     "execution_count": 8,
     "metadata": {},
     "output_type": "execute_result"
    }
   ],
   "source": [
    "len(geodat) # number of records in dataset"
   ]
  },
  {
   "cell_type": "code",
   "execution_count": 9,
   "metadata": {},
   "outputs": [
    {
     "data": {
      "text/plain": [
       "2166"
      ]
     },
     "execution_count": 9,
     "metadata": {},
     "output_type": "execute_result"
    }
   ],
   "source": [
    "geodat['TransectName'].nunique() # number of unique TransectName, at 55 SiteNames btw"
   ]
  },
  {
   "cell_type": "code",
   "execution_count": 10,
   "metadata": {},
   "outputs": [
    {
     "data": {
      "text/plain": [
       "511"
      ]
     },
     "execution_count": 10,
     "metadata": {},
     "output_type": "execute_result"
    }
   ],
   "source": [
    "geodat['Date'].nunique() # number of unique monitoring dates"
   ]
  },
  {
   "cell_type": "code",
   "execution_count": 11,
   "metadata": {},
   "outputs": [
    {
     "data": {
      "text/plain": [
       "TransectName    2166\n",
       "MonDate          511\n",
       "dtype: int64"
      ]
     },
     "execution_count": 11,
     "metadata": {},
     "output_type": "execute_result"
    }
   ],
   "source": [
    "colnames = ['TransectName', 'MonDate'] # idk how to ask it to count the unique trans-date combos, but from R I see it is 4774\n",
    "geodat[colnames].nunique()"
   ]
  },
  {
   "cell_type": "code",
   "execution_count": 12,
   "metadata": {},
   "outputs": [
    {
     "data": {
      "text/plain": [
       "<matplotlib.axes._subplots.AxesSubplot at 0x7f2ae3543290>"
      ]
     },
     "execution_count": 12,
     "metadata": {},
     "output_type": "execute_result"
    },
    {
     "data": {
      "image/png": "[encoded data removed]",
      "text/plain": [
       "<Figure size 432x288 with 1 Axes>"
      ]
     },
     "metadata": {
      "needs_background": "light"
     },
     "output_type": "display_data"
    }
   ],
   "source": [
    "geodat.plot()"
   ]
  },
  {
   "cell_type": "markdown",
   "metadata": {},
   "source": [
    "OMG, I'm so happy. Yay I'm learning!"
   ]
  },
  {
   "cell_type": "markdown",
   "metadata": {},
   "source": [
    "Now, how do I use these coords to get EarthAI imagery, or to mask imagery that I queried from other py script using the outerbound polygon? "
   ]
  },
  {
   "cell_type": "code",
   "execution_count": null,
   "metadata": {},
   "outputs": [],
   "source": [
    "geodat['MonDate'].head()"
   ]
  },
  {
   "cell_type": "code",
   "execution_count": null,
   "metadata": {},
   "outputs": [],
   "source": [
    "colnames = ['RecordID', 'MonDate','TransectName']\n",
    "geodat[colnames].head()"
   ]
  },
  {
   "cell_type": "raw",
   "metadata": {},
   "source": [
    "print(colnames)"
   ]
  },
  {
   "cell_type": "code",
   "execution_count": null,
   "metadata": {},
   "outputs": [],
   "source": [
    "test = geodat[colnames].head() # start with just a few"
   ]
  },
  {
   "cell_type": "code",
   "execution_count": null,
   "metadata": {},
   "outputs": [],
   "source": [
    "type(test)"
   ]
  },
  {
   "cell_type": "code",
   "execution_count": null,
   "metadata": {},
   "outputs": [],
   "source": []
  },
  {
   "cell_type": "code",
   "execution_count": null,
   "metadata": {},
   "outputs": [],
   "source": [
    "test['Date'] = pd.to_datetime(test['MonDate'])"
   ]
  },
  {
   "cell_type": "code",
   "execution_count": null,
   "metadata": {},
   "outputs": [],
   "source": [
    "type(test['Date'])"
   ]
  },
  {
   "cell_type": "code",
   "execution_count": null,
   "metadata": {},
   "outputs": [],
   "source": []
  },
  {
   "cell_type": "code",
   "execution_count": null,
   "metadata": {},
   "outputs": [],
   "source": []
  }
 ],
 "metadata": {
  "kernelspec": {
   "display_name": "EarthAI Python",
   "language": "python",
   "name": "python3"
  },
  "language_info": {
   "codemirror_mode": {
    "name": "ipython",
    "version": 3
   },
   "file_extension": ".py",
   "mimetype": "text/x-python",
   "name": "python",
   "nbconvert_exporter": "python",
   "pygments_lexer": "ipython3",
   "version": "3.7.7"
  }
 },
 "nbformat": 4,
 "nbformat_minor": 4
}
